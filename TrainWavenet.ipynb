{
 "cells": [
  {
   "cell_type": "code",
   "execution_count": 1,
   "metadata": {},
   "outputs": [],
   "source": [
    "# %load_ext autoreload\n",
    "# %autoreload 2\n",
    "# !pip install git+https://github.com/Cinnamon/pyson  --no-cache-dir"
   ]
  },
  {
   "cell_type": "code",
   "execution_count": 2,
   "metadata": {},
   "outputs": [],
   "source": [
    "# %%time\n",
    "# !pip install python-Levenshtein tqdm xxhash opencv-python matplotlib pandas fuzzywuzzy -q "
   ]
  },
  {
   "cell_type": "code",
   "execution_count": 1,
   "metadata": {},
   "outputs": [
    {
     "name": "stdout",
     "output_type": "stream",
     "text": [
      "1.12.0\n"
     ]
    }
   ],
   "source": [
    "# from pyson.losses import suppervise_ctc_loss, ctc_loss\n",
    "from tensorflow.python.keras.models import Sequential,Model\n",
    "from text_normalizer.utils.normalize import normalize_text\n",
    "from tensorflow.python.keras import backend as K\n",
    "from tensorflow.python.keras.layers import *\n",
    "from pyson.utils import memoize, show_df\n",
    "from pyson.vision import plot_images\n",
    "from data_utils import *\n",
    "import tensorflow as tf\n",
    "from tqdm import tqdm\n",
    "from time import time\n",
    "import os\n",
    "import numpy as np\n",
    "import pandas\n",
    "from glob import glob\n",
    "from pyson.utils import multi_thread, read_json\n",
    "from fuzzywuzzy import fuzz\n",
    "from data_utils import run_data_init\n",
    "print(tf.__version__)"
   ]
  },
  {
   "cell_type": "markdown",
   "metadata": {},
   "source": [
    "# 0. Util functions"
   ]
  },
  {
   "cell_type": "code",
   "execution_count": 2,
   "metadata": {},
   "outputs": [],
   "source": [
    "def batch_ratio(preds, targets):\n",
    "    rt = []\n",
    "    for p, t in zip(preds, targets):\n",
    "        r = fuzz.ratio(p, t)\n",
    "        rt.append(r)\n",
    "    return np.mean(rt)\n"
   ]
  },
  {
   "cell_type": "markdown",
   "metadata": {},
   "source": [
    "## 0.1 Config"
   ]
  },
  {
   "cell_type": "code",
   "execution_count": 3,
   "metadata": {},
   "outputs": [],
   "source": [
    "label_text_path = 'json_path.json'\n",
    "label_text = {int(label): text for label, text in read_json(label_text_path).items()}\n",
    "text_label = {text:int(label) for label, text in label_text.items()}\n",
    "\n",
    "\n",
    "weights_path = './weights/AnsonOCR-v0.2.0.h5'\n",
    "\n",
    "LOGDIR = 'weights'\n",
    "summary_dir = os.path.join(LOGDIR, 'tb')\n",
    "test_project = 'dc3'\n",
    "\n",
    "batch_size = 16\n",
    "max_train_samples  = None # take all\n",
    "max_test_samples = None# take all\n",
    "max_eval_steps = None\n",
    "\n",
    "display_freq = 10\n",
    "save_freq = 5000\n",
    "eval_freq = 1000"
   ]
  },
  {
   "cell_type": "markdown",
   "metadata": {},
   "source": [
    "# 1. Build dataset"
   ]
  },
  {
   "cell_type": "code",
   "execution_count": 4,
   "metadata": {},
   "outputs": [],
   "source": [
    "K.clear_session()\n",
    "sess = K.get_session()"
   ]
  },
  {
   "cell_type": "markdown",
   "metadata": {},
   "source": [
    "## 1.1 prepare pandas dataframe"
   ]
  },
  {
   "cell_type": "code",
   "execution_count": 5,
   "metadata": {},
   "outputs": [],
   "source": [
    "phase = 'train'"
   ]
  },
  {
   "cell_type": "code",
   "execution_count": 7,
   "metadata": {
    "scrolled": true
   },
   "outputs": [
    {
     "name": "stdout",
     "output_type": "stream",
     "text": [
      "Training Phase\n",
      "loading pandas: train.json\n"
     ]
    },
    {
     "name": "stderr",
     "output_type": "stream",
     "text": [
      "\r",
      "Executing Pipeline:   0%|          | 0/51537 [00:00<?, ? Samples/s]"
     ]
    },
    {
     "name": "stdout",
     "output_type": "stream",
     "text": [
      "not width\n",
      "read width:,  51537\n"
     ]
    },
    {
     "name": "stderr",
     "output_type": "stream",
     "text": [
      "Executing Pipeline: 100%|██████████| 51537/51537 [00:10<00:00, 4909.10 Samples/s]\n"
     ]
    },
    {
     "name": "stdout",
     "output_type": "stream",
     "text": [
      "Finished\n"
     ]
    },
    {
     "name": "stderr",
     "output_type": "stream",
     "text": [
      "\r",
      "Executing Pipeline:   0%|          | 0/5711 [00:00<?, ? Samples/s]"
     ]
    },
    {
     "name": "stdout",
     "output_type": "stream",
     "text": [
      "before return 48076\n",
      "48022\n",
      "loading pandas: val.json\n",
      "not width\n",
      "read width:,  5711\n"
     ]
    },
    {
     "name": "stderr",
     "output_type": "stream",
     "text": [
      "Executing Pipeline: 100%|██████████| 5711/5711 [00:01<00:00, 4768.55 Samples/s]\n"
     ]
    },
    {
     "name": "stdout",
     "output_type": "stream",
     "text": [
      "Finished\n",
      "before return 5298\n",
      "48022 5290\n"
     ]
    }
   ],
   "source": [
    "# %%time\n",
    "from data_utils import load_dataset_ctc\n",
    "if phase == 'train':\n",
    "    print('Training Phase')\n",
    "    df_train = load_dataset_ctc(['train.json'], \n",
    "                               factor=4, text_label=text_label) \n",
    "    print(len(df_train))\n",
    "#     df_test = df_train[df_train['path']] # .map(lambda x: '/fuse/raw/' in x)]\n",
    "    df_test = load_dataset_ctc(['val.json'], factor=4, text_label=text_label)\n",
    "else:\n",
    "    df_train = load_dataset_ctc(['val.json'], factor=4, text_label=text_label)\n",
    "    df_test = df_train\n",
    "    \n",
    "print(len(df_train), len(df_test))"
   ]
  },
  {
   "cell_type": "markdown",
   "metadata": {},
   "source": [
    "### 1.2.1 CTC dataset\n",
    "##### After this we have:\n",
    "inputs-label pairs: `[inputs_train, target_train], [inputs_test, target_test]`\n",
    "\n",
    "initializers:  `[dataset_train_initializer, dataset_test_initializer]`\n",
    "\n",
    "placeholders: `[dataset_train_x, dataset_test_x]`\n",
    "\n",
    "feeding data: `[dataset_train_index, dataset_test_index]`"
   ]
  },
  {
   "cell_type": "code",
   "execution_count": 8,
   "metadata": {},
   "outputs": [
    {
     "name": "stdout",
     "output_type": "stream",
     "text": [
      "[45440 45441 45442 45443 45444 45445 45446 45447 45448 45449 45450 45451\n",
      " 45452 45453 45454 45455  6928  6929  6930  6931  6932  6933  6934  6935\n",
      "  6936  6937  6938  6939  6940  6941  6942  6943 16944 16945 16946 16947\n",
      " 16948 16949 16950 16951 16952 16953 16954 16955 16956 16957 16958 16959\n",
      " 17728 17729 17730 17731 17732 17733 17734 17735 17736 17737 17738 17739\n",
      " 17740 17741 17742 17743 19936 19937 19938 19939 19940 19941 19942 19943\n",
      " 19944 19945 19946 19947 19948 19949 19950 19951 31280 31281 31282 31283\n",
      " 31284 31285 31286 31287 31288 31289 31290 31291 31292 31293 31294 31295\n",
      "  3840  3841  3842  3843]\n"
     ]
    }
   ],
   "source": [
    "# %%time\n",
    "from data_utils import create_tf_dataset, run_data_init\n",
    "train_tensors, train_initer = create_tf_dataset(df_train, batch_size, 'train', learn_space=True)\n",
    "test_tensors, test_initer = create_tf_dataset(df_test, batch_size, 'test', learn_space=True)\n",
    "run_data_init([train_initer], shuffle=True, sess = sess, batch_size=batch_size)"
   ]
  },
  {
   "cell_type": "code",
   "execution_count": 9,
   "metadata": {},
   "outputs": [
    {
     "name": "stdout",
     "output_type": "stream",
     "text": [
      "(16, 48, 576, 1)\n"
     ]
    },
    {
     "data": {
      "image/png": "[encoded data removed]",
      "text/plain": [
       "<Figure size 1200x800 with 3 Axes>"
      ]
     },
     "metadata": {},
     "output_type": "display_data"
    }
   ],
   "source": [
    "# %%time\n",
    "imgs, labels, train_paths, train_losses, train_preds = sess.run(train_tensors)\n",
    "print(imgs.shape)\n",
    "imgs = np.clip(imgs, 0, 1)\n",
    "plot_images(imgs[...,0], mxn=[3,1], dpi=200)"
   ]
  },
  {
   "cell_type": "markdown",
   "metadata": {},
   "source": [
    "# 2. Build model"
   ]
  },
  {
   "cell_type": "code",
   "execution_count": 10,
   "metadata": {},
   "outputs": [
    {
     "name": "stdout",
     "output_type": "stream",
     "text": [
      "_________________________________________________________________\n",
      "Layer (type)                 Output Shape              Param #   \n",
      "=================================================================\n",
      "basemodel_input (InputLayer) (None, 48, None, 1)       0         \n",
      "_________________________________________________________________\n",
      "sequential_1 (Sequential)    (None, None, 512)         6863616   \n",
      "_________________________________________________________________\n",
      "model_1 (Model)              [(None, None, 4114), (Non 3421970   \n",
      "=================================================================\n",
      "Total params: 10,285,586\n",
      "Trainable params: 10,283,538\n",
      "Non-trainable params: 2,048\n",
      "_________________________________________________________________\n"
     ]
    }
   ],
   "source": [
    "from wavenet import build_model\n",
    "basemodel = build_model(len(label_text)+1, ngf=64)\n",
    "# basemodel = Model.from_config(read_json('../lib-ocr/ocr/anson/model_config_files'))\n",
    "basemodel.summary()"
   ]
  },
  {
   "cell_type": "markdown",
   "metadata": {},
   "source": [
    "## 2.2 Build predict tensors\n",
    "For ctc loss only we take the 2nd output\n",
    "\n",
    "For entropy loss we take the 1st output "
   ]
  },
  {
   "cell_type": "code",
   "execution_count": 11,
   "metadata": {},
   "outputs": [],
   "source": [
    "logits_train, preds_train = basemodel(train_tensors[0])\n",
    "preds_test = basemodel(test_tensors[0])[1]"
   ]
  },
  {
   "cell_type": "markdown",
   "metadata": {},
   "source": [
    "## 2.3 Build training ops"
   ]
  },
  {
   "cell_type": "code",
   "execution_count": 12,
   "metadata": {},
   "outputs": [],
   "source": [
    "from pyson.losses import ctc_loss_v2"
   ]
  },
  {
   "cell_type": "code",
   "execution_count": 13,
   "metadata": {},
   "outputs": [],
   "source": [
    "# %%time\n",
    "\n",
    "global_step = tf.Variable(0, dtype=tf.int64, name='global_step')\n",
    "\n",
    "train_maxout = tf.argmax(preds_train, axis=-1)\n",
    "\n",
    "loss_ctc_with_argmax = ctc_loss_v2(tf.cast(train_tensors[1], tf.float32), \n",
    "                                tf.one_hot(train_maxout, len(text_label)+1))\n"
   ]
  },
  {
   "cell_type": "code",
   "execution_count": 14,
   "metadata": {},
   "outputs": [],
   "source": [
    "loss_ctc = ctc_loss_v2(train_tensors[1], preds_train)\n",
    "ops_ctc = tf.train.AdamOptimizer(0.0001).minimize(loss_ctc, global_step=global_step) \n",
    "\n",
    "summary = tf.Summary()\n",
    "\n",
    "train_writer = tf.summary.FileWriter(summary_dir,sess.graph)"
   ]
  },
  {
   "cell_type": "markdown",
   "metadata": {},
   "source": [
    "# 3. Train"
   ]
  },
  {
   "cell_type": "markdown",
   "metadata": {},
   "source": [
    "## 3.1 Restore"
   ]
  },
  {
   "cell_type": "code",
   "execution_count": 31,
   "metadata": {},
   "outputs": [],
   "source": []
  },
  {
   "cell_type": "code",
   "execution_count": 32,
   "metadata": {},
   "outputs": [],
   "source": [
    "display_freq = 20\n",
    "plot_freq = 150\n",
    "batch_losses = {'loss_ctc': [], 'loss_ent':[], 'accuracy_train':[], 'accuracy_loc':[]}"
   ]
  },
  {
   "cell_type": "code",
   "execution_count": 33,
   "metadata": {},
   "outputs": [
    {
     "name": "stdout",
     "output_type": "stream",
     "text": [
      "Create logdir: weights\n",
      "Cannot restore\n",
      "CPU times: user 1.33 s, sys: 208 ms, total: 1.54 s\n",
      "Wall time: 1.43 s\n"
     ]
    }
   ],
   "source": [
    "saver = tf.train.Saver(keep_checkpoint_every_n_hours=1)\n",
    "os.makedirs(LOGDIR, exist_ok=True)\n",
    "print('Create logdir:', LOGDIR)\n",
    "\n",
    "checkpoint = tf.train.latest_checkpoint(LOGDIR)\n",
    "try:\n",
    "    saver.restore(sess, checkpoint)\n",
    "except Exception as e:\n",
    "    print('Cannot restore')\n",
    "    sess.run(tf.global_variables_initializer())\n",
    "    os.system('rm -r {}/*'.format(summary_dir))"
   ]
  },
  {
   "cell_type": "markdown",
   "metadata": {},
   "source": [
    "## 3.2 Run train loop"
   ]
  },
  {
   "cell_type": "code",
   "execution_count": 34,
   "metadata": {},
   "outputs": [],
   "source": [
    "run_data_init([train_initer, test_initer], shuffle=False, sess=sess, batch_size=batch_size)"
   ]
  },
  {
   "cell_type": "code",
   "execution_count": 35,
   "metadata": {},
   "outputs": [],
   "source": [
    "basemodel.load_weights('weights/AnsonOCR-v2.8.0.h5')"
   ]
  },
  {
   "cell_type": "code",
   "execution_count": 36,
   "metadata": {},
   "outputs": [],
   "source": [
    "# %matplotlib inline"
   ]
  },
  {
   "cell_type": "code",
   "execution_count": 37,
   "metadata": {},
   "outputs": [],
   "source": [
    "init_step = sess.run(global_step)\n",
    "\n"
   ]
  },
  {
   "cell_type": "code",
   "execution_count": 38,
   "metadata": {},
   "outputs": [
    {
     "name": "stdout",
     "output_type": "stream",
     "text": [
      "(1, 16)\n"
     ]
    },
    {
     "data": {
      "image/png": "[encoded data removed]",
      "text/plain": [
       "<Figure size 600x400 with 16 Axes>"
      ]
     },
     "metadata": {},
     "output_type": "display_data"
    },
    {
     "name": "stdout",
     "output_type": "stream",
     "text": [
      "Batch accuracy: 75.0\n",
      "\n",
      " 1 \n",
      " | -----------------\n",
      "\n",
      " [ \n",
      " I -----------------\n",
      "\n",
      " 1 \n",
      " 1 -----------------\n",
      "\n",
      " 1 \n",
      " 1 -----------------\n",
      "\n",
      " 3 \n",
      " 3 -----------------\n",
      "\n",
      " サ \n",
      " ・ -----------------\n",
      "\n",
      " 0 \n",
      " 0 -----------------\n",
      "\n",
      " % \n",
      " % -----------------\n",
      "\n",
      " A \n",
      " A -----------------\n",
      "\n",
      "  \n",
      " l -----------------\n",
      "\n",
      " C \n",
      " C -----------------\n",
      "\n",
      " A \n",
      " A -----------------\n",
      "\n",
      " E \n",
      " E -----------------\n",
      "\n",
      " A \n",
      " A -----------------\n",
      "\n",
      " 0 \n",
      " 0 -----------------\n",
      "\n",
      " 1 \n",
      " 1 -----------------\n",
      "Global_step:61\tLoss-ctc:1.48908\tLoss-ent:-1.00000\tAccuracy-train:85.94\tSpeed:7.39 "
     ]
    },
    {
     "ename": "NameError",
     "evalue": "name 'saver' is not defined",
     "output_type": "error",
     "traceback": [
      "\u001b[0;31m---------------------------------------------------------------------------\u001b[0m",
      "\u001b[0;31mKeyboardInterrupt\u001b[0m                         Traceback (most recent call last)",
      "\u001b[0;32m<ipython-input-38-1457694e7b75>\u001b[0m in \u001b[0;36m<module>\u001b[0;34m\u001b[0m\n\u001b[1;32m     23\u001b[0m \u001b[0;34m\u001b[0m\u001b[0m\n\u001b[0;32m---> 24\u001b[0;31m         \u001b[0mresults\u001b[0m \u001b[0;34m=\u001b[0m \u001b[0msess\u001b[0m\u001b[0;34m.\u001b[0m\u001b[0mrun\u001b[0m\u001b[0;34m(\u001b[0m\u001b[0mtrain_dict\u001b[0m\u001b[0;34m)\u001b[0m\u001b[0;34m\u001b[0m\u001b[0;34m\u001b[0m\u001b[0m\n\u001b[0m\u001b[1;32m     25\u001b[0m         \u001b[0mmean_ctc\u001b[0m \u001b[0;34m=\u001b[0m \u001b[0mnp\u001b[0m\u001b[0;34m.\u001b[0m\u001b[0mmean\u001b[0m\u001b[0;34m(\u001b[0m\u001b[0mresults\u001b[0m\u001b[0;34m[\u001b[0m\u001b[0;34m'loss_ctc'\u001b[0m\u001b[0;34m]\u001b[0m\u001b[0;34m)\u001b[0m\u001b[0;34m\u001b[0m\u001b[0;34m\u001b[0m\u001b[0m\n",
      "\u001b[0;32m/anaconda3/envs/MyDjangoEnv/lib/python3.6/site-packages/tensorflow/python/client/session.py\u001b[0m in \u001b[0;36mrun\u001b[0;34m(self, fetches, feed_dict, options, run_metadata)\u001b[0m\n\u001b[1;32m    928\u001b[0m       result = self._run(None, fetches, feed_dict, options_ptr,\n\u001b[0;32m--> 929\u001b[0;31m                          run_metadata_ptr)\n\u001b[0m\u001b[1;32m    930\u001b[0m       \u001b[0;32mif\u001b[0m \u001b[0mrun_metadata\u001b[0m\u001b[0;34m:\u001b[0m\u001b[0;34m\u001b[0m\u001b[0;34m\u001b[0m\u001b[0m\n",
      "\u001b[0;32m/anaconda3/envs/MyDjangoEnv/lib/python3.6/site-packages/tensorflow/python/client/session.py\u001b[0m in \u001b[0;36m_run\u001b[0;34m(self, handle, fetches, feed_dict, options, run_metadata)\u001b[0m\n\u001b[1;32m   1151\u001b[0m       results = self._do_run(handle, final_targets, final_fetches,\n\u001b[0;32m-> 1152\u001b[0;31m                              feed_dict_tensor, options, run_metadata)\n\u001b[0m\u001b[1;32m   1153\u001b[0m     \u001b[0;32melse\u001b[0m\u001b[0;34m:\u001b[0m\u001b[0;34m\u001b[0m\u001b[0;34m\u001b[0m\u001b[0m\n",
      "\u001b[0;32m/anaconda3/envs/MyDjangoEnv/lib/python3.6/site-packages/tensorflow/python/client/session.py\u001b[0m in \u001b[0;36m_do_run\u001b[0;34m(self, handle, target_list, fetch_list, feed_dict, options, run_metadata)\u001b[0m\n\u001b[1;32m   1327\u001b[0m       return self._do_call(_run_fn, feeds, fetches, targets, options,\n\u001b[0;32m-> 1328\u001b[0;31m                            run_metadata)\n\u001b[0m\u001b[1;32m   1329\u001b[0m     \u001b[0;32melse\u001b[0m\u001b[0;34m:\u001b[0m\u001b[0;34m\u001b[0m\u001b[0;34m\u001b[0m\u001b[0m\n",
      "\u001b[0;32m/anaconda3/envs/MyDjangoEnv/lib/python3.6/site-packages/tensorflow/python/client/session.py\u001b[0m in \u001b[0;36m_do_call\u001b[0;34m(self, fn, *args)\u001b[0m\n\u001b[1;32m   1333\u001b[0m     \u001b[0;32mtry\u001b[0m\u001b[0;34m:\u001b[0m\u001b[0;34m\u001b[0m\u001b[0;34m\u001b[0m\u001b[0m\n\u001b[0;32m-> 1334\u001b[0;31m       \u001b[0;32mreturn\u001b[0m \u001b[0mfn\u001b[0m\u001b[0;34m(\u001b[0m\u001b[0;34m*\u001b[0m\u001b[0margs\u001b[0m\u001b[0;34m)\u001b[0m\u001b[0;34m\u001b[0m\u001b[0;34m\u001b[0m\u001b[0m\n\u001b[0m\u001b[1;32m   1335\u001b[0m     \u001b[0;32mexcept\u001b[0m \u001b[0merrors\u001b[0m\u001b[0;34m.\u001b[0m\u001b[0mOpError\u001b[0m \u001b[0;32mas\u001b[0m \u001b[0me\u001b[0m\u001b[0;34m:\u001b[0m\u001b[0;34m\u001b[0m\u001b[0;34m\u001b[0m\u001b[0m\n",
      "\u001b[0;32m/anaconda3/envs/MyDjangoEnv/lib/python3.6/site-packages/tensorflow/python/client/session.py\u001b[0m in \u001b[0;36m_run_fn\u001b[0;34m(feed_dict, fetch_list, target_list, options, run_metadata)\u001b[0m\n\u001b[1;32m   1318\u001b[0m       return self._call_tf_sessionrun(\n\u001b[0;32m-> 1319\u001b[0;31m           options, feed_dict, fetch_list, target_list, run_metadata)\n\u001b[0m\u001b[1;32m   1320\u001b[0m \u001b[0;34m\u001b[0m\u001b[0m\n",
      "\u001b[0;32m/anaconda3/envs/MyDjangoEnv/lib/python3.6/site-packages/tensorflow/python/client/session.py\u001b[0m in \u001b[0;36m_call_tf_sessionrun\u001b[0;34m(self, options, feed_dict, fetch_list, target_list, run_metadata)\u001b[0m\n\u001b[1;32m   1406\u001b[0m         \u001b[0mself\u001b[0m\u001b[0;34m.\u001b[0m\u001b[0m_session\u001b[0m\u001b[0;34m,\u001b[0m \u001b[0moptions\u001b[0m\u001b[0;34m,\u001b[0m \u001b[0mfeed_dict\u001b[0m\u001b[0;34m,\u001b[0m \u001b[0mfetch_list\u001b[0m\u001b[0;34m,\u001b[0m \u001b[0mtarget_list\u001b[0m\u001b[0;34m,\u001b[0m\u001b[0;34m\u001b[0m\u001b[0;34m\u001b[0m\u001b[0m\n\u001b[0;32m-> 1407\u001b[0;31m         run_metadata)\n\u001b[0m\u001b[1;32m   1408\u001b[0m \u001b[0;34m\u001b[0m\u001b[0m\n",
      "\u001b[0;31mKeyboardInterrupt\u001b[0m: ",
      "\nDuring handling of the above exception, another exception occurred:\n",
      "\u001b[0;31mNameError\u001b[0m                                 Traceback (most recent call last)",
      "\u001b[0;32m<ipython-input-38-1457694e7b75>\u001b[0m in \u001b[0;36m<module>\u001b[0;34m\u001b[0m\n\u001b[1;32m     73\u001b[0m     \u001b[0;32mexcept\u001b[0m \u001b[0mKeyboardInterrupt\u001b[0m\u001b[0;34m:\u001b[0m\u001b[0;34m\u001b[0m\u001b[0;34m\u001b[0m\u001b[0m\n\u001b[1;32m     74\u001b[0m         \u001b[0msave_path\u001b[0m \u001b[0;34m=\u001b[0m \u001b[0mos\u001b[0m\u001b[0;34m.\u001b[0m\u001b[0mpath\u001b[0m\u001b[0;34m.\u001b[0m\u001b[0mjoin\u001b[0m\u001b[0;34m(\u001b[0m\u001b[0mLOGDIR\u001b[0m\u001b[0;34m,\u001b[0m \u001b[0;34m'keras'\u001b[0m\u001b[0;34m,\u001b[0m\u001b[0;34m'basemodel_retrain_{}.h5'\u001b[0m\u001b[0;34m.\u001b[0m\u001b[0mformat\u001b[0m\u001b[0;34m(\u001b[0m\u001b[0mg_step\u001b[0m\u001b[0;34m)\u001b[0m\u001b[0;34m)\u001b[0m\u001b[0;34m\u001b[0m\u001b[0;34m\u001b[0m\u001b[0m\n\u001b[0;32m---> 75\u001b[0;31m         \u001b[0msaver\u001b[0m\u001b[0;34m.\u001b[0m\u001b[0msave\u001b[0m\u001b[0;34m(\u001b[0m\u001b[0msess\u001b[0m\u001b[0;34m,\u001b[0m \u001b[0mos\u001b[0m\u001b[0;34m.\u001b[0m\u001b[0mpath\u001b[0m\u001b[0;34m.\u001b[0m\u001b[0mjoin\u001b[0m\u001b[0;34m(\u001b[0m\u001b[0mLOGDIR\u001b[0m\u001b[0;34m,\u001b[0m \u001b[0;34m'ckpt'\u001b[0m\u001b[0;34m)\u001b[0m\u001b[0;34m,\u001b[0m \u001b[0mglobal_step\u001b[0m\u001b[0;34m=\u001b[0m\u001b[0mglobal_step\u001b[0m\u001b[0;34m)\u001b[0m\u001b[0;34m\u001b[0m\u001b[0;34m\u001b[0m\u001b[0m\n\u001b[0m\u001b[1;32m     76\u001b[0m         \u001b[0;32mbreak\u001b[0m\u001b[0;34m\u001b[0m\u001b[0;34m\u001b[0m\u001b[0m\n\u001b[1;32m     77\u001b[0m \u001b[0;34m\u001b[0m\u001b[0m\n",
      "\u001b[0;31mNameError\u001b[0m: name 'saver' is not defined"
     ]
    }
   ],
   "source": [
    "from IPython.display import clear_output\n",
    "start = time()\n",
    "init_step = sess.run(global_step)\n",
    "print('INFO: Init_step:{}'.format(init_step))\n",
    "while True:\n",
    "    try:\n",
    "        g_step = sess.run(global_step)\n",
    "        train_dict = { 'ops_ctc': ops_ctc,\n",
    "                      'loss_ctc':loss_ctc,\n",
    "                      'global_step':global_step, \n",
    "                     }\n",
    "        \n",
    "            \n",
    "        if g_step % display_freq == 0:\n",
    "            train_dict['preds_train'] = preds_test \n",
    "            train_dict['target_train'] = test_tensors[1]\n",
    "\n",
    "        if g_step % plot_freq == 0:\n",
    "            train_dict['inputs_train'] = test_tensors[0]\n",
    "            train_dict['preds_train'] = preds_test\n",
    "            train_dict['target_train'] = test_tensors[1]\n",
    "\n",
    "\n",
    "        results = sess.run(train_dict)\n",
    "        mean_ctc = np.mean(results['loss_ctc'])\n",
    "        batch_losses['loss_ctc'].append(mean_ctc)\n",
    "\n",
    "\n",
    "        if g_step % display_freq == 0:\n",
    "            pred_decoded_train = convert_batch_int_to_text(np.argmax(results['preds_train'], -1), label_text)\n",
    "            label_decoded_train = convert_batch_int_to_text(results['target_train'], label_text, repeat_colapse=False)\n",
    "            batch_losses['accuracy_train'].append(batch_ratio(pred_decoded_train, label_decoded_train))\n",
    "\n",
    "            \n",
    "            speed = ((g_step-init_step)*batch_size) / (time()-start)\n",
    "            summary.value.add(tag='Loss Ctc', simple_value=batch_losses['loss_ctc'][-1])\n",
    "\n",
    "            summary.value.add(tag='train Accuracy', simple_value=batch_losses['accuracy_train'][-1])\n",
    "\n",
    "\n",
    "            sum_str = '\\rGlobal_step:{}\\tLoss-ctc:{:0.5f}\\tLoss-ent:{:0.5f}\\tAccuracy-train:{:0.2f}\\tSpeed:{:0.2f} '.format(\n",
    "                                            results['global_step'],\n",
    "                                            np.mean(batch_losses['loss_ctc'][-1000:]), \n",
    "                                            -1,#np.mean(batch_losses['loss_ent'][-1000:]), \n",
    "                                            np.mean(batch_losses['accuracy_train'][-1000:]), \n",
    "                                            speed,\n",
    "                                            \n",
    "            )\n",
    "            \n",
    "            print(sum_str,end='')\n",
    "            train_writer.add_summary(summary, g_step)\n",
    "\n",
    "\n",
    "        if g_step % plot_freq == 0:\n",
    "            clear_output()\n",
    "            plot_images(np.clip(results['inputs_train'][...,0], 0, 1), dpi=100)\n",
    "    \n",
    "            pred_decoded = convert_batch_int_to_text(np.argmax(results['preds_train'], -1), label_text)\n",
    "            label_decoded = convert_batch_int_to_text(results['target_train'], label_text, False)\n",
    "\n",
    "            accuracy = batch_ratio(pred_decoded, label_decoded)\n",
    "            print('Batch accuracy:', accuracy)\n",
    "            for a, b in zip(pred_decoded[:16], label_decoded[:16]):\n",
    "                print('\\n',a,'\\n',b,'-----------------')\n",
    "\n",
    "        if g_step % save_freq == 0 and g_step > 100:\n",
    "            save_path = os.path.join(LOGDIR, 'keras','basemodel_retrain_{}.h5'.format(g_step))\n",
    "            basemodel.save_weights(save_path)\n",
    "            os.makedirs(os.path.dirname(save_path), exist_ok=True)\n",
    "            saver.save(sess, os.path.join(LOGDIR, 'ckpt'), global_step=global_step)\n",
    "            print('Save keras model at:', save_path)\n",
    "            \n",
    "    except KeyboardInterrupt:\n",
    "        save_path = os.path.join(LOGDIR, 'keras','basemodel_retrain_{}.h5'.format(g_step))\n",
    "        saver.save(sess, os.path.join(LOGDIR, 'ckpt'), global_step=global_step)\n",
    "        break\n",
    "        \n",
    "    except Exception as e:\n",
    "        print('Exeption: {}'.format(str(e)))\n",
    "        run_data_init([train_initer, test_initer], shuffle=True, sess=sess, batch_size=batch_size)\n",
    "#         clear_output()"
   ]
  },
  {
   "cell_type": "code",
   "execution_count": null,
   "metadata": {},
   "outputs": [],
   "source": []
  }
 ],
 "metadata": {
  "kernelspec": {
   "display_name": "MyDjangoEnv",
   "language": "python",
   "name": "mydjangoenv"
  },
  "language_info": {
   "codemirror_mode": {
    "name": "ipython",
    "version": 3
   },
   "file_extension": ".py",
   "mimetype": "text/x-python",
   "name": "python",
   "nbconvert_exporter": "python",
   "pygments_lexer": "ipython3",
   "version": "3.6.8"
  }
 },
 "nbformat": 4,
 "nbformat_minor": 2
}
